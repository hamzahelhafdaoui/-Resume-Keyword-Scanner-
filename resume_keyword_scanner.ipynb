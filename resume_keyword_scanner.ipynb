{
 "cells": [
  {
   "cell_type": "markdown",
   "id": "bf44e414",
   "metadata": {},
   "source": [
    "# Resume Keyword Scanner\n",
    "This notebook compares resume content against a job description using predefined keyword categories."
   ]
  },
  {
   "cell_type": "code",
   "execution_count": null,
   "id": "3fa6cca8",
   "metadata": {},
   "outputs": [],
   "source": [
    "import json\n",
    "from collections import defaultdict\n",
    "import matplotlib.pyplot as plt\n",
    "\n",
    "# Load files\n",
    "with open(\"resume_sample.txt\", \"r\") as f:\n",
    "    resume_text = f.read().lower()\n",
    "\n",
    "with open(\"job_description_sample.txt\", \"r\") as f:\n",
    "    jd_text = f.read().lower()\n",
    "\n",
    "with open(\"keywords.json\", \"r\") as f:\n",
    "    keyword_dict = json.load(f)\n"
   ]
  },
  {
   "cell_type": "code",
   "execution_count": null,
   "id": "3f9fb090",
   "metadata": {},
   "outputs": [],
   "source": [
    "match_summary = {}\n",
    "missing_keywords = defaultdict(list)\n",
    "\n",
    "for category, keywords in keyword_dict.items():\n",
    "    total = len(keywords)\n",
    "    matched = sum(1 for word in keywords if word.lower() in resume_text)\n",
    "    match_summary[category] = {\n",
    "        \"matched\": matched,\n",
    "        \"total\": total,\n",
    "        \"missing\": [word for word in keywords if word.lower() not in resume_text]\n",
    "    }\n",
    "\n",
    "for category, data in match_summary.items():\n",
    "    print(f\"{category}: {data['matched']}/{data['total']} matched\")\n",
    "    if data['missing']:\n",
    "        print(\"  Missing:\", \", \".join(data['missing']))\n",
    "    print()\n"
   ]
  },
  {
   "cell_type": "code",
   "execution_count": null,
   "id": "7c425f5f",
   "metadata": {},
   "outputs": [],
   "source": [
    "categories = list(match_summary.keys())\n",
    "matched = [match_summary[cat][\"matched\"] for cat in categories]\n",
    "total = [match_summary[cat][\"total\"] for cat in categories]\n",
    "\n",
    "fig, ax = plt.subplots(figsize=(10, 6))\n",
    "ax.bar(categories, total, color=\"#d9d9d9\", label=\"Total\")\n",
    "ax.bar(categories, matched, color=\"#4caf50\", label=\"Matched\")\n",
    "ax.set_title(\"Resume Keyword Match by Category\")\n",
    "ax.set_ylabel(\"Keyword Count\")\n",
    "ax.legend()\n",
    "plt.xticks(rotation=45)\n",
    "plt.tight_layout()\n",
    "plt.savefig(\"match_chart.png\")\n",
    "plt.show()\n"
   ]
  }
 ],
 "metadata": {},
 "nbformat": 4,
 "nbformat_minor": 5
}
